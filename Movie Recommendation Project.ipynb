{
 "cells": [
  {
   "cell_type": "code",
   "execution_count": 1,
   "id": "79ba1018",
   "metadata": {},
   "outputs": [],
   "source": [
    "import pandas as pd"
   ]
  },
  {
   "cell_type": "code",
   "execution_count": null,
   "id": "a12d05c6",
   "metadata": {},
   "outputs": [],
   "source": []
  },
  {
   "cell_type": "markdown",
   "id": "72f88b2a",
   "metadata": {},
   "source": [
    "# Extraction of the data into dataframes"
   ]
  },
  {
   "cell_type": "code",
   "execution_count": 2,
   "id": "7839c36e",
   "metadata": {},
   "outputs": [],
   "source": [
    "ratings=pd.read_csv(\"ratings.csv\")"
   ]
  },
  {
   "cell_type": "code",
   "execution_count": 3,
   "id": "63e683b7",
   "metadata": {},
   "outputs": [],
   "source": [
    "movies=pd.read_csv(\"movies.csv\")"
   ]
  },
  {
   "cell_type": "code",
   "execution_count": 4,
   "id": "41829ac5",
   "metadata": {},
   "outputs": [],
   "source": [
    "UserData=pd.read_csv(\"UserData.csv\")"
   ]
  },
  {
   "cell_type": "markdown",
   "id": "74d69d0f",
   "metadata": {},
   "source": [
    "# Storing name of user into a variable as that will be the key search element"
   ]
  },
  {
   "cell_type": "code",
   "execution_count": 5,
   "id": "ad29c2b1",
   "metadata": {},
   "outputs": [
    {
     "name": "stdout",
     "output_type": "stream",
     "text": [
      "Enter name: Wallace Stark\n"
     ]
    }
   ],
   "source": [
    "name=input(\"Enter name: \")"
   ]
  },
  {
   "cell_type": "code",
   "execution_count": null,
   "id": "6baca625",
   "metadata": {},
   "outputs": [],
   "source": []
  },
  {
   "cell_type": "markdown",
   "id": "bec3c0bc",
   "metadata": {},
   "source": [
    "# Recommendation Function,This should give the top 3 movies recommended for a user given name"
   ]
  },
  {
   "cell_type": "code",
   "execution_count": 6,
   "id": "9f7579fd",
   "metadata": {},
   "outputs": [
    {
     "name": "stdout",
     "output_type": "stream",
     "text": [
      "Clerks (1994)\n",
      "Taxi Driver (1976)\n",
      "Hoop Dreams (1994)\n"
     ]
    }
   ],
   "source": [
    "#recommendation function\n",
    "def Recommend_func(name):\n",
    "    for index,row in UserData.iterrows():\n",
    "        if row['Name']==name:\n",
    "            i=row['UserID']\n",
    "    user_data=ratings.loc[ratings.userId==i]\n",
    "    #important\n",
    "    #list of all the movieIds watched by user\n",
    "    l=list(user_data['movieId'])\n",
    "    #important\n",
    "    #getting all the movies which the user watched\n",
    "    gen=[]\n",
    "    for index,row in movies.iterrows():\n",
    "        if row['movieId'] in l:\n",
    "            gen.append(row['genres'])\n",
    "    #important\n",
    "    #obtaining the highest watched genres by any user\n",
    "    from collections import Counter\n",
    "    count=Counter(gen)\n",
    "    top=count.most_common(3)\n",
    "    best_genres=[]\n",
    "    for i in top:\n",
    "        best_genres.append(i[0])\n",
    "    #important\n",
    "    best_movies=ratings.loc[ratings[\"rating\"]==5]\n",
    "    b_id=list(best_movies['movieId'])\n",
    "    #important\n",
    "    #finding all the movies of those genres\n",
    "    gen1=[]\n",
    "    gen2=[]\n",
    "    gen3=[]\n",
    "    for index,row in movies.iterrows():\n",
    "        if row['genres']==best_genres[0]:\n",
    "            gen1.append(row)\n",
    "        elif row['genres']==best_genres[1]:\n",
    "            gen2.append(row)\n",
    "        elif row['genres']==best_genres[2]:\n",
    "            gen3.append(row)\n",
    "    #important\n",
    "    #getting all the unwatched movies in each genre\n",
    "    unw1=[]\n",
    "    for i in gen1:\n",
    "        if i['movieId'] not in l:\n",
    "            unw1.append(i['movieId'])\n",
    "    unw2=[]\n",
    "    for i in gen2:\n",
    "        if i['movieId'] not in l:\n",
    "            unw2.append(i['movieId'])\n",
    "    unw3=[]\n",
    "    for i in gen3:\n",
    "        if i['movieId'] not in l:\n",
    "            unw3.append(i['movieId'])\n",
    "    #important\n",
    "    #Getting the count for all the highest rated movies\n",
    "    hm=Counter(b_id)\n",
    "    j=hm.most_common(5)\n",
    "    #getting the top 5 movie names of all time\n",
    "    top_5_id=[]\n",
    "    for i in j:\n",
    "        top_5_id.append(i[0])\n",
    "    no_5stars=[]\n",
    "    for i in j:\n",
    "        no_5stars.append(i[1])\n",
    "    movie_name=[]\n",
    "    for index,row in movies.iterrows():\n",
    "        if row['movieId'] in top_5_id:\n",
    "            movie_name.append(row['title'])\n",
    "    #important\n",
    "    #final movie reccomended\n",
    "    best_of_gen1={}\n",
    "    for i in hm:\n",
    "        if i in unw1:\n",
    "            best_of_gen1[i]=hm[i]\n",
    "    t=list(best_of_gen1.values())\n",
    "    t.sort()\n",
    "    fc=t[-1]\n",
    "    for i in best_of_gen1:\n",
    "        if best_of_gen1[i]==fc:\n",
    "            gen1_final_mid=i\n",
    "\n",
    "\n",
    "\n",
    "    best_of_gen2={}\n",
    "    for i in hm:\n",
    "        if i in unw2:\n",
    "            best_of_gen2[i]=hm[i]\n",
    "    t=list(best_of_gen2.values())\n",
    "    t.sort()\n",
    "    fc=t[-1]\n",
    "    for i in best_of_gen2:\n",
    "        if best_of_gen2[i]==fc:\n",
    "            gen2_final_mid=i\n",
    "\n",
    "\n",
    "\n",
    "    best_of_gen3={}\n",
    "    for i in hm:\n",
    "        if i in unw3:\n",
    "            best_of_gen3[i]=hm[i]\n",
    "    t=list(best_of_gen3.values())\n",
    "    t.sort()\n",
    "    fc=t[-1]\n",
    "    for i in best_of_gen3:\n",
    "        if best_of_gen3[i]==fc:\n",
    "            gen3_final_mid=i\n",
    "    #important\n",
    "    #names of the final reccomended movies\n",
    "    for i in gen1:\n",
    "        if i['movieId']==gen1_final_mid:\n",
    "            print(i['title'])\n",
    "    for i in gen2:\n",
    "        if i['movieId']==gen2_final_mid:\n",
    "            print(i['title'])\n",
    "    for i in gen3:\n",
    "        if i['movieId']==gen3_final_mid:\n",
    "            print(i['title'])\n",
    "\n",
    "Recommend_func(name)"
   ]
  },
  {
   "cell_type": "code",
   "execution_count": null,
   "id": "6ceea5ce",
   "metadata": {},
   "outputs": [],
   "source": []
  },
  {
   "cell_type": "markdown",
   "id": "b5739393",
   "metadata": {},
   "source": [
    "# top 3 genres for each person"
   ]
  },
  {
   "cell_type": "code",
   "execution_count": 7,
   "id": "570931be",
   "metadata": {},
   "outputs": [
    {
     "name": "stdout",
     "output_type": "stream",
     "text": [
      "['Comedy', 'Crime|Drama|Thriller', 'Documentary']\n"
     ]
    }
   ],
   "source": [
    "#top 3 genres\n",
    "def Genres_func(name):\n",
    "    for index,row in UserData.iterrows():\n",
    "        if row['Name']==name:\n",
    "            i=row['UserID']\n",
    "    user_data=ratings.loc[ratings.userId==i]\n",
    "    #important\n",
    "    #list of all the movieIds watched by user\n",
    "    l=list(user_data['movieId'])\n",
    "    #important\n",
    "    #getting all the movies which the user watched\n",
    "    gen=[]\n",
    "    for index,row in movies.iterrows():\n",
    "        if row['movieId'] in l:\n",
    "            gen.append(row['genres'])\n",
    "    #important\n",
    "    #obtaining the highest watched genres by any user\n",
    "    from collections import Counter\n",
    "    count=Counter(gen)\n",
    "    top=count.most_common(3)\n",
    "    best_genres=[]\n",
    "    for i in top:\n",
    "        best_genres.append(i[0])\n",
    "    return best_genres\n",
    "l=Genres_func(name)\n",
    "print(l)"
   ]
  },
  {
   "cell_type": "code",
   "execution_count": null,
   "id": "2cc45a7d",
   "metadata": {},
   "outputs": [],
   "source": []
  },
  {
   "cell_type": "markdown",
   "id": "22878bab",
   "metadata": {},
   "source": [
    "# top 5 movies in each of the top 3 genres"
   ]
  },
  {
   "cell_type": "code",
   "execution_count": 8,
   "id": "08d3510c",
   "metadata": {},
   "outputs": [
    {
     "name": "stdout",
     "output_type": "stream",
     "text": [
      "The corresponding top 5 movies of the top 3 genres are as follows : \n",
      "\n",
      "Comedy [\"Monty Python's Life of Brian (1979)\", 'Clerks (1994)', 'Airplane! (1980)', \"Ferris Bueller's Day Off (1986)\", 'Raising Arizona (1987)']\n",
      "Crime|Drama|Thriller ['Taxi Driver (1976)', 'Departed, The (2006)', 'Traffic (2000)', 'American Gangster (2007)', 'Few Good Men, A (1992)']\n",
      "Documentary ['Hoop Dreams (1994)', 'Roger & Me (1989)', 'Crumb (1994)', 'Inside Job (2010)', 'Bowling for Columbine (2002)']\n"
     ]
    }
   ],
   "source": [
    "def top_5(genre):\n",
    "    gen1=[]\n",
    "    for index,row in movies.iterrows():\n",
    "        if row['genres']==genre:\n",
    "            gen1.append(row['movieId'])\n",
    "            \n",
    "    best_movies=ratings.loc[ratings[\"rating\"]==5]\n",
    "    b_id=list(best_movies['movieId'])\n",
    "    b_in_g=[]\n",
    "    for i in b_id:\n",
    "        if i in gen1:\n",
    "            b_in_g.append(i)\n",
    "    from collections import Counter\n",
    "    hm=Counter(b_in_g)\n",
    "    j=hm.most_common(5)\n",
    "    b=[]\n",
    "    for i in j:\n",
    "        b.append(i[0])\n",
    "    final=[]\n",
    "    for i in b:\n",
    "        for index,row in movies.iterrows():\n",
    "            if row['movieId']==i:\n",
    "                final.append(row['title']) \n",
    "    return final\n",
    "\n",
    "print(\"The corresponding top 5 movies of the top 3 genres are as follows : \")\n",
    "print(\"\")\n",
    "for i in l:\n",
    "    print(i,top_5(i))\n",
    "                \n",
    "    "
   ]
  },
  {
   "cell_type": "markdown",
   "id": "4f58792e",
   "metadata": {},
   "source": [
    "# Training and Testing"
   ]
  },
  {
   "cell_type": "markdown",
   "id": "450bd6ed",
   "metadata": {},
   "source": []
  },
  {
   "cell_type": "code",
   "execution_count": 9,
   "id": "3dd653f3",
   "metadata": {},
   "outputs": [],
   "source": [
    "def LinearRegression():\n",
    "    import numpy as np\n",
    "    import pandas as pd\n",
    "    from sklearn.linear_model import LinearRegression\n",
    "    from sklearn.linear_model import LogisticRegression\n",
    "    from sklearn.model_selection import train_test_split\n",
    "    \n",
    "    \n",
    "    # Load the movielens dataset\n",
    "    data = pd.read_csv(\"ratings.csv\")\n",
    "    \n",
    "    # Split the dataset into a training set and a test set\n",
    "    X_train, X_test, y_train, y_test = train_test_split(data, data[\"rating\"], test_size=0.25)\n",
    "    \n",
    "    # Create a linear regression model\n",
    "    lin_reg = LinearRegression()\n",
    "    \n",
    "    # Fit the linear regression model to the training set\n",
    "    lin_reg.fit(X_train, y_train)\n",
    "    \n",
    "    # Evaluate the linear regression model on the test set\n",
    "    print(\"Linear regression accuracy:\", lin_reg.score(X_test, y_test))"
   ]
  },
  {
   "cell_type": "code",
   "execution_count": 10,
   "id": "297bef47",
   "metadata": {},
   "outputs": [
    {
     "name": "stdout",
     "output_type": "stream",
     "text": [
      "Linear regression accuracy: 1.0\n"
     ]
    }
   ],
   "source": [
    "LinearRegression()"
   ]
  },
  {
   "cell_type": "code",
   "execution_count": null,
   "id": "f2532780",
   "metadata": {},
   "outputs": [],
   "source": []
  },
  {
   "cell_type": "code",
   "execution_count": null,
   "id": "29cde53b",
   "metadata": {},
   "outputs": [],
   "source": []
  },
  {
   "cell_type": "code",
   "execution_count": null,
   "id": "f09b731b",
   "metadata": {},
   "outputs": [],
   "source": []
  },
  {
   "cell_type": "code",
   "execution_count": null,
   "id": "0f4626c0",
   "metadata": {},
   "outputs": [],
   "source": []
  },
  {
   "cell_type": "code",
   "execution_count": null,
   "id": "76fa8bc0",
   "metadata": {},
   "outputs": [],
   "source": []
  },
  {
   "cell_type": "code",
   "execution_count": null,
   "id": "b96583db",
   "metadata": {},
   "outputs": [],
   "source": []
  },
  {
   "cell_type": "code",
   "execution_count": null,
   "id": "ddf65564",
   "metadata": {},
   "outputs": [],
   "source": []
  },
  {
   "cell_type": "code",
   "execution_count": null,
   "id": "c9a0e008",
   "metadata": {},
   "outputs": [],
   "source": []
  },
  {
   "cell_type": "code",
   "execution_count": null,
   "id": "65b951d4",
   "metadata": {},
   "outputs": [],
   "source": []
  },
  {
   "cell_type": "code",
   "execution_count": null,
   "id": "55957cf1",
   "metadata": {},
   "outputs": [],
   "source": []
  },
  {
   "cell_type": "code",
   "execution_count": null,
   "id": "1756ec7d",
   "metadata": {},
   "outputs": [],
   "source": []
  },
  {
   "cell_type": "code",
   "execution_count": null,
   "id": "d1b4c5f9",
   "metadata": {},
   "outputs": [],
   "source": []
  },
  {
   "cell_type": "code",
   "execution_count": null,
   "id": "15079c5d",
   "metadata": {},
   "outputs": [],
   "source": []
  },
  {
   "cell_type": "code",
   "execution_count": null,
   "id": "7453b5fa",
   "metadata": {},
   "outputs": [],
   "source": []
  },
  {
   "cell_type": "code",
   "execution_count": null,
   "id": "dfe1933a",
   "metadata": {},
   "outputs": [],
   "source": []
  },
  {
   "cell_type": "code",
   "execution_count": null,
   "id": "197fab37",
   "metadata": {},
   "outputs": [],
   "source": []
  },
  {
   "cell_type": "code",
   "execution_count": null,
   "id": "c84e1d23",
   "metadata": {},
   "outputs": [],
   "source": []
  },
  {
   "cell_type": "code",
   "execution_count": null,
   "id": "1f84c791",
   "metadata": {},
   "outputs": [],
   "source": []
  },
  {
   "cell_type": "code",
   "execution_count": null,
   "id": "9e921e33",
   "metadata": {},
   "outputs": [],
   "source": []
  },
  {
   "cell_type": "code",
   "execution_count": null,
   "id": "f04bc879",
   "metadata": {},
   "outputs": [],
   "source": []
  },
  {
   "cell_type": "code",
   "execution_count": null,
   "id": "41281b90",
   "metadata": {},
   "outputs": [],
   "source": []
  },
  {
   "cell_type": "code",
   "execution_count": null,
   "id": "f077b426",
   "metadata": {},
   "outputs": [],
   "source": []
  },
  {
   "cell_type": "code",
   "execution_count": null,
   "id": "9098c24f",
   "metadata": {},
   "outputs": [],
   "source": []
  },
  {
   "cell_type": "code",
   "execution_count": null,
   "id": "10e609c5",
   "metadata": {},
   "outputs": [],
   "source": []
  },
  {
   "cell_type": "code",
   "execution_count": null,
   "id": "d9d99d24",
   "metadata": {},
   "outputs": [],
   "source": []
  },
  {
   "cell_type": "code",
   "execution_count": null,
   "id": "fab101f4",
   "metadata": {},
   "outputs": [],
   "source": []
  },
  {
   "cell_type": "code",
   "execution_count": null,
   "id": "07955ced",
   "metadata": {},
   "outputs": [],
   "source": []
  },
  {
   "cell_type": "code",
   "execution_count": null,
   "id": "64d35597",
   "metadata": {},
   "outputs": [],
   "source": []
  },
  {
   "cell_type": "code",
   "execution_count": null,
   "id": "ef4723f8",
   "metadata": {},
   "outputs": [],
   "source": []
  },
  {
   "cell_type": "code",
   "execution_count": null,
   "id": "40e9d259",
   "metadata": {},
   "outputs": [],
   "source": []
  },
  {
   "cell_type": "code",
   "execution_count": null,
   "id": "e30c9695",
   "metadata": {},
   "outputs": [],
   "source": []
  },
  {
   "cell_type": "code",
   "execution_count": null,
   "id": "16743c6c",
   "metadata": {},
   "outputs": [],
   "source": []
  },
  {
   "cell_type": "code",
   "execution_count": null,
   "id": "537799c8",
   "metadata": {},
   "outputs": [],
   "source": []
  },
  {
   "cell_type": "code",
   "execution_count": null,
   "id": "298b8952",
   "metadata": {},
   "outputs": [],
   "source": []
  },
  {
   "cell_type": "code",
   "execution_count": null,
   "id": "50c2e1b9",
   "metadata": {},
   "outputs": [],
   "source": []
  },
  {
   "cell_type": "code",
   "execution_count": null,
   "id": "661c97e2",
   "metadata": {},
   "outputs": [],
   "source": []
  },
  {
   "cell_type": "code",
   "execution_count": null,
   "id": "9e25cb88",
   "metadata": {},
   "outputs": [],
   "source": []
  },
  {
   "cell_type": "code",
   "execution_count": null,
   "id": "983e83b0",
   "metadata": {},
   "outputs": [],
   "source": []
  },
  {
   "cell_type": "code",
   "execution_count": null,
   "id": "e71a5fd6",
   "metadata": {},
   "outputs": [],
   "source": []
  },
  {
   "cell_type": "code",
   "execution_count": null,
   "id": "702abf91",
   "metadata": {},
   "outputs": [],
   "source": []
  },
  {
   "cell_type": "code",
   "execution_count": null,
   "id": "252f36e5",
   "metadata": {},
   "outputs": [],
   "source": []
  },
  {
   "cell_type": "code",
   "execution_count": null,
   "id": "cdee18ee",
   "metadata": {},
   "outputs": [],
   "source": []
  },
  {
   "cell_type": "code",
   "execution_count": null,
   "id": "53d9eb7d",
   "metadata": {},
   "outputs": [],
   "source": []
  },
  {
   "cell_type": "code",
   "execution_count": null,
   "id": "149854f2",
   "metadata": {},
   "outputs": [],
   "source": []
  },
  {
   "cell_type": "code",
   "execution_count": null,
   "id": "109ca1cc",
   "metadata": {},
   "outputs": [],
   "source": []
  },
  {
   "cell_type": "code",
   "execution_count": null,
   "id": "bcc59944",
   "metadata": {},
   "outputs": [],
   "source": []
  },
  {
   "cell_type": "code",
   "execution_count": null,
   "id": "c14ddb34",
   "metadata": {},
   "outputs": [],
   "source": []
  },
  {
   "cell_type": "code",
   "execution_count": null,
   "id": "6bc9c868",
   "metadata": {},
   "outputs": [],
   "source": []
  },
  {
   "cell_type": "code",
   "execution_count": null,
   "id": "59fbb563",
   "metadata": {},
   "outputs": [],
   "source": []
  },
  {
   "cell_type": "code",
   "execution_count": null,
   "id": "c5305180",
   "metadata": {},
   "outputs": [],
   "source": []
  },
  {
   "cell_type": "code",
   "execution_count": null,
   "id": "96312c71",
   "metadata": {},
   "outputs": [],
   "source": []
  },
  {
   "cell_type": "code",
   "execution_count": null,
   "id": "c9a74fb8",
   "metadata": {},
   "outputs": [],
   "source": []
  },
  {
   "cell_type": "code",
   "execution_count": null,
   "id": "e4329f8f",
   "metadata": {},
   "outputs": [],
   "source": []
  },
  {
   "cell_type": "code",
   "execution_count": null,
   "id": "4c9e3bac",
   "metadata": {},
   "outputs": [],
   "source": []
  },
  {
   "cell_type": "code",
   "execution_count": null,
   "id": "7690e8bc",
   "metadata": {},
   "outputs": [],
   "source": []
  },
  {
   "cell_type": "code",
   "execution_count": null,
   "id": "7be98ef9",
   "metadata": {},
   "outputs": [],
   "source": []
  },
  {
   "cell_type": "code",
   "execution_count": null,
   "id": "54732bb2",
   "metadata": {},
   "outputs": [],
   "source": []
  },
  {
   "cell_type": "code",
   "execution_count": null,
   "id": "05fef3ed",
   "metadata": {},
   "outputs": [],
   "source": []
  },
  {
   "cell_type": "code",
   "execution_count": null,
   "id": "a81cb7cf",
   "metadata": {},
   "outputs": [],
   "source": []
  },
  {
   "cell_type": "code",
   "execution_count": null,
   "id": "5ab89e7d",
   "metadata": {},
   "outputs": [],
   "source": []
  },
  {
   "cell_type": "code",
   "execution_count": null,
   "id": "a27c921e",
   "metadata": {},
   "outputs": [],
   "source": []
  },
  {
   "cell_type": "code",
   "execution_count": null,
   "id": "da273f8d",
   "metadata": {},
   "outputs": [],
   "source": []
  },
  {
   "cell_type": "code",
   "execution_count": null,
   "id": "7f2f1ecb",
   "metadata": {},
   "outputs": [],
   "source": []
  },
  {
   "cell_type": "code",
   "execution_count": null,
   "id": "8b1c50f0",
   "metadata": {},
   "outputs": [],
   "source": []
  },
  {
   "cell_type": "code",
   "execution_count": null,
   "id": "b6a86574",
   "metadata": {},
   "outputs": [],
   "source": []
  },
  {
   "cell_type": "code",
   "execution_count": null,
   "id": "54f25694",
   "metadata": {},
   "outputs": [],
   "source": []
  },
  {
   "cell_type": "code",
   "execution_count": null,
   "id": "1999ff92",
   "metadata": {},
   "outputs": [],
   "source": []
  },
  {
   "cell_type": "code",
   "execution_count": null,
   "id": "8308078e",
   "metadata": {},
   "outputs": [],
   "source": []
  },
  {
   "cell_type": "code",
   "execution_count": null,
   "id": "33a4bda7",
   "metadata": {},
   "outputs": [],
   "source": []
  },
  {
   "cell_type": "code",
   "execution_count": null,
   "id": "1cde0c34",
   "metadata": {},
   "outputs": [],
   "source": []
  },
  {
   "cell_type": "code",
   "execution_count": null,
   "id": "da4a2c8f",
   "metadata": {},
   "outputs": [],
   "source": []
  },
  {
   "cell_type": "code",
   "execution_count": null,
   "id": "6cc9cf31",
   "metadata": {},
   "outputs": [],
   "source": []
  },
  {
   "cell_type": "code",
   "execution_count": null,
   "id": "3d9a9726",
   "metadata": {},
   "outputs": [],
   "source": []
  },
  {
   "cell_type": "code",
   "execution_count": null,
   "id": "7cd1cb0f",
   "metadata": {},
   "outputs": [],
   "source": []
  },
  {
   "cell_type": "code",
   "execution_count": null,
   "id": "f70fb612",
   "metadata": {},
   "outputs": [],
   "source": []
  },
  {
   "cell_type": "code",
   "execution_count": null,
   "id": "974802cc",
   "metadata": {},
   "outputs": [],
   "source": []
  },
  {
   "cell_type": "code",
   "execution_count": null,
   "id": "6108d813",
   "metadata": {},
   "outputs": [],
   "source": []
  },
  {
   "cell_type": "code",
   "execution_count": null,
   "id": "e905f2a7",
   "metadata": {},
   "outputs": [],
   "source": []
  },
  {
   "cell_type": "code",
   "execution_count": null,
   "id": "a3f4b163",
   "metadata": {},
   "outputs": [],
   "source": []
  },
  {
   "cell_type": "code",
   "execution_count": null,
   "id": "267eee32",
   "metadata": {},
   "outputs": [],
   "source": []
  },
  {
   "cell_type": "code",
   "execution_count": null,
   "id": "08741867",
   "metadata": {},
   "outputs": [],
   "source": []
  },
  {
   "cell_type": "code",
   "execution_count": null,
   "id": "ee4b9421",
   "metadata": {},
   "outputs": [],
   "source": []
  },
  {
   "cell_type": "code",
   "execution_count": null,
   "id": "2ffab637",
   "metadata": {},
   "outputs": [],
   "source": []
  }
 ],
 "metadata": {
  "kernelspec": {
   "display_name": "Python 3 (ipykernel)",
   "language": "python",
   "name": "python3"
  },
  "language_info": {
   "codemirror_mode": {
    "name": "ipython",
    "version": 3
   },
   "file_extension": ".py",
   "mimetype": "text/x-python",
   "name": "python",
   "nbconvert_exporter": "python",
   "pygments_lexer": "ipython3",
   "version": "3.10.5"
  }
 },
 "nbformat": 4,
 "nbformat_minor": 5
}
